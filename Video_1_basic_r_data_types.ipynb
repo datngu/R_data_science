{
 "cells": [
  {
   "cell_type": "markdown",
   "id": "954e94cf-beba-4290-8e2b-38604844d716",
   "metadata": {},
   "source": [
    "# Video 1: Introduction to R - Data types in R"
   ]
  },
  {
   "cell_type": "markdown",
   "id": "b765225d-18fe-48ab-8efb-b7b69324acab",
   "metadata": {},
   "source": [
    "## Learning objectives\n",
    "### 1. Variable assigment\n",
    "- \"<-\"\n",
    "- \"=\"\n",
    "### 2. Data types in R\n",
    "- integer (số nguyên)\n",
    "- Numeric/float (số thập phân)\n",
    "- Character/string (chuỗi chữ/ ký tự)\n",
    "- Factor (nhóm)\n",
    "- Logical (TRUE/FALSE)\n",
    "### 3. Functions related to data types\n",
    "- class()\n",
    "- standard operations  (+,-,*,/,^)\n",
    "- \"as-dot\" family (as.integer(), as.character(), as.numeric()...)"
   ]
  },
  {
   "cell_type": "code",
   "execution_count": null,
   "id": "34fe379f-260b-46ca-aa03-bde2982398e6",
   "metadata": {},
   "outputs": [],
   "source": [
    "##################################################################"
   ]
  },
  {
   "cell_type": "code",
   "execution_count": null,
   "id": "075ac6bd-cb36-41eb-aa63-ab67ebf79b39",
   "metadata": {},
   "outputs": [],
   "source": [
    "#### variable assignment"
   ]
  },
  {
   "cell_type": "code",
   "execution_count": 233,
   "id": "efe347e1-4228-46ca-80f1-85ae2ba93b5f",
   "metadata": {},
   "outputs": [],
   "source": [
    "a <- 10000"
   ]
  },
  {
   "cell_type": "code",
   "execution_count": 234,
   "id": "10009385-6d10-442d-bdcd-daeb7a0349f7",
   "metadata": {},
   "outputs": [
    {
     "name": "stdout",
     "output_type": "stream",
     "text": [
      "[1] 10000\n"
     ]
    }
   ],
   "source": [
    "print(a)"
   ]
  },
  {
   "cell_type": "code",
   "execution_count": 235,
   "id": "d79991df-2eaa-419f-a539-bf8f70cc339e",
   "metadata": {},
   "outputs": [],
   "source": [
    "a = 99999"
   ]
  },
  {
   "cell_type": "code",
   "execution_count": 236,
   "id": "60dd9238-b084-45a3-a5fe-315352939e65",
   "metadata": {},
   "outputs": [
    {
     "name": "stdout",
     "output_type": "stream",
     "text": [
      "[1] 99999\n"
     ]
    }
   ],
   "source": [
    "print(a)"
   ]
  },
  {
   "cell_type": "code",
   "execution_count": 237,
   "id": "b7a55a86-5af4-45a7-bf98-ba58d7b45497",
   "metadata": {},
   "outputs": [],
   "source": [
    "b <- \"hello cac ban\""
   ]
  },
  {
   "cell_type": "code",
   "execution_count": 238,
   "id": "dba7e884-5972-44f0-a870-70e8b315c1b1",
   "metadata": {},
   "outputs": [
    {
     "name": "stdout",
     "output_type": "stream",
     "text": [
      "[1] \"hello cac ban\"\n"
     ]
    }
   ],
   "source": [
    "print(b)"
   ]
  },
  {
   "cell_type": "code",
   "execution_count": 239,
   "id": "225dd73b-6e22-4cff-acac-9cdabb41af3f",
   "metadata": {},
   "outputs": [],
   "source": [
    "b = \"I am R language\""
   ]
  },
  {
   "cell_type": "code",
   "execution_count": 240,
   "id": "2e6b585e-a72f-4b84-b3d8-470036f1039f",
   "metadata": {},
   "outputs": [
    {
     "name": "stdout",
     "output_type": "stream",
     "text": [
      "[1] \"I am R language\"\n"
     ]
    }
   ],
   "source": [
    "print(b)"
   ]
  },
  {
   "cell_type": "code",
   "execution_count": 241,
   "id": "cae09d55-476b-4a8c-9b95-29696ae0d5d6",
   "metadata": {},
   "outputs": [
    {
     "data": {
      "text/html": [
       "'I am R language'"
      ],
      "text/latex": [
       "'I am R language'"
      ],
      "text/markdown": [
       "'I am R language'"
      ],
      "text/plain": [
       "[1] \"I am R language\""
      ]
     },
     "metadata": {},
     "output_type": "display_data"
    }
   ],
   "source": [
    "b"
   ]
  },
  {
   "cell_type": "code",
   "execution_count": null,
   "id": "7738a0e5-2bca-43a2-bb3a-3071af56027d",
   "metadata": {},
   "outputs": [],
   "source": [
    "#### standard data types in R"
   ]
  },
  {
   "cell_type": "code",
   "execution_count": 242,
   "id": "4f6c1895-4fb3-4781-8a2a-0edd6857266d",
   "metadata": {},
   "outputs": [],
   "source": [
    "x = 10L"
   ]
  },
  {
   "cell_type": "code",
   "execution_count": 245,
   "id": "93371067-cec0-4a01-ad35-bec60ef78d5a",
   "metadata": {},
   "outputs": [
    {
     "data": {
      "text/html": [
       "10"
      ],
      "text/latex": [
       "10"
      ],
      "text/markdown": [
       "10"
      ],
      "text/plain": [
       "[1] 10"
      ]
     },
     "metadata": {},
     "output_type": "display_data"
    }
   ],
   "source": [
    "x"
   ]
  },
  {
   "cell_type": "code",
   "execution_count": 243,
   "id": "c5e6c7c4-e5e1-4779-a842-bb1d9d80f0cc",
   "metadata": {},
   "outputs": [],
   "source": [
    "y = 10"
   ]
  },
  {
   "cell_type": "code",
   "execution_count": 244,
   "id": "6feea7b4-7389-4352-90d1-83be6fd89e09",
   "metadata": {},
   "outputs": [
    {
     "data": {
      "text/html": [
       "10"
      ],
      "text/latex": [
       "10"
      ],
      "text/markdown": [
       "10"
      ],
      "text/plain": [
       "[1] 10"
      ]
     },
     "metadata": {},
     "output_type": "display_data"
    }
   ],
   "source": [
    "y"
   ]
  },
  {
   "cell_type": "code",
   "execution_count": 246,
   "id": "8b26af89-ff1f-4216-af3d-558eff98fce2",
   "metadata": {},
   "outputs": [],
   "source": [
    "z = \"10\""
   ]
  },
  {
   "cell_type": "code",
   "execution_count": 247,
   "id": "20f8833f-58e9-4cfc-abb9-04c8dc305eb8",
   "metadata": {},
   "outputs": [
    {
     "data": {
      "text/html": [
       "'10'"
      ],
      "text/latex": [
       "'10'"
      ],
      "text/markdown": [
       "'10'"
      ],
      "text/plain": [
       "[1] \"10\""
      ]
     },
     "metadata": {},
     "output_type": "display_data"
    }
   ],
   "source": [
    "z"
   ]
  },
  {
   "cell_type": "code",
   "execution_count": 248,
   "id": "a36cb4cb-a7f0-43ea-b0d4-3191ea1e8759",
   "metadata": {},
   "outputs": [],
   "source": [
    "t = factor(10)"
   ]
  },
  {
   "cell_type": "code",
   "execution_count": 249,
   "id": "3d2099ad-c15f-4ff4-983f-eb5d20816cec",
   "metadata": {},
   "outputs": [
    {
     "data": {
      "text/html": [
       "10\n",
       "<details>\n",
       "\t<summary style=display:list-item;cursor:pointer>\n",
       "\t\t<strong>Levels</strong>:\n",
       "\t</summary>\n",
       "\t'10'\n",
       "</details>"
      ],
      "text/latex": [
       "10\n",
       "\\emph{Levels}: '10'"
      ],
      "text/markdown": [
       "10\n",
       "**Levels**: '10'"
      ],
      "text/plain": [
       "[1] 10\n",
       "Levels: 10"
      ]
     },
     "metadata": {},
     "output_type": "display_data"
    }
   ],
   "source": [
    "t"
   ]
  },
  {
   "cell_type": "code",
   "execution_count": null,
   "id": "939f5085-1d33-4913-83d1-c964b16b9ca3",
   "metadata": {},
   "outputs": [],
   "source": [
    "#### logical data type in R"
   ]
  },
  {
   "cell_type": "code",
   "execution_count": 250,
   "id": "4a899714-bf1c-43e3-b074-a6a23601427a",
   "metadata": {},
   "outputs": [],
   "source": [
    "w = TRUE"
   ]
  },
  {
   "cell_type": "code",
   "execution_count": 251,
   "id": "ec53bc67-0604-4eab-ae59-9555be8c6c01",
   "metadata": {},
   "outputs": [
    {
     "data": {
      "text/html": [
       "TRUE"
      ],
      "text/latex": [
       "TRUE"
      ],
      "text/markdown": [
       "TRUE"
      ],
      "text/plain": [
       "[1] TRUE"
      ]
     },
     "metadata": {},
     "output_type": "display_data"
    }
   ],
   "source": [
    "w"
   ]
  },
  {
   "cell_type": "code",
   "execution_count": 252,
   "id": "95451106-d8cf-4e7d-bf84-c4f884e484c6",
   "metadata": {},
   "outputs": [],
   "source": [
    "v = FALSE"
   ]
  },
  {
   "cell_type": "code",
   "execution_count": 253,
   "id": "19c69064-26f7-4250-9105-e0b766c349c4",
   "metadata": {},
   "outputs": [
    {
     "data": {
      "text/html": [
       "FALSE"
      ],
      "text/latex": [
       "FALSE"
      ],
      "text/markdown": [
       "FALSE"
      ],
      "text/plain": [
       "[1] FALSE"
      ]
     },
     "metadata": {},
     "output_type": "display_data"
    }
   ],
   "source": [
    "v"
   ]
  },
  {
   "cell_type": "code",
   "execution_count": 254,
   "id": "13a0a779-6088-4945-a27b-792f418fd3ad",
   "metadata": {},
   "outputs": [
    {
     "data": {
      "text/html": [
       "10"
      ],
      "text/latex": [
       "10"
      ],
      "text/markdown": [
       "10"
      ],
      "text/plain": [
       "[1] 10"
      ]
     },
     "metadata": {},
     "output_type": "display_data"
    }
   ],
   "source": [
    "x"
   ]
  },
  {
   "cell_type": "code",
   "execution_count": 255,
   "id": "4257b045-b423-4cdd-b53d-915cca414778",
   "metadata": {},
   "outputs": [
    {
     "data": {
      "text/html": [
       "FALSE"
      ],
      "text/latex": [
       "FALSE"
      ],
      "text/markdown": [
       "FALSE"
      ],
      "text/plain": [
       "[1] FALSE"
      ]
     },
     "metadata": {},
     "output_type": "display_data"
    }
   ],
   "source": [
    "x == 10.1"
   ]
  },
  {
   "cell_type": "code",
   "execution_count": 256,
   "id": "596829e6-9a05-458b-83ce-83af3e0a4b92",
   "metadata": {},
   "outputs": [
    {
     "data": {
      "text/html": [
       "TRUE"
      ],
      "text/latex": [
       "TRUE"
      ],
      "text/markdown": [
       "TRUE"
      ],
      "text/plain": [
       "[1] TRUE"
      ]
     },
     "metadata": {},
     "output_type": "display_data"
    }
   ],
   "source": [
    "x != 10.1"
   ]
  },
  {
   "cell_type": "code",
   "execution_count": 257,
   "id": "e8f7cc4e-fcdc-43c5-82cb-30daf520a706",
   "metadata": {},
   "outputs": [
    {
     "data": {
      "text/html": [
       "FALSE"
      ],
      "text/latex": [
       "FALSE"
      ],
      "text/markdown": [
       "FALSE"
      ],
      "text/plain": [
       "[1] FALSE"
      ]
     },
     "metadata": {},
     "output_type": "display_data"
    }
   ],
   "source": [
    "x > 10.1"
   ]
  },
  {
   "cell_type": "code",
   "execution_count": 258,
   "id": "0521680d-f4aa-42ae-9b2c-b671ef702edb",
   "metadata": {},
   "outputs": [
    {
     "data": {
      "text/html": [
       "TRUE"
      ],
      "text/latex": [
       "TRUE"
      ],
      "text/markdown": [
       "TRUE"
      ],
      "text/plain": [
       "[1] TRUE"
      ]
     },
     "metadata": {},
     "output_type": "display_data"
    }
   ],
   "source": [
    "x < 10.1"
   ]
  },
  {
   "cell_type": "code",
   "execution_count": 259,
   "id": "3bed6009-8e3e-453d-ad4d-4dff8bbc5336",
   "metadata": {},
   "outputs": [
    {
     "data": {
      "text/html": [
       "FALSE"
      ],
      "text/latex": [
       "FALSE"
      ],
      "text/markdown": [
       "FALSE"
      ],
      "text/plain": [
       "[1] FALSE"
      ]
     },
     "metadata": {},
     "output_type": "display_data"
    }
   ],
   "source": [
    "x >= 10.1"
   ]
  },
  {
   "cell_type": "code",
   "execution_count": 260,
   "id": "9af211a1-667c-47f3-9942-cf096137e884",
   "metadata": {},
   "outputs": [
    {
     "data": {
      "text/html": [
       "TRUE"
      ],
      "text/latex": [
       "TRUE"
      ],
      "text/markdown": [
       "TRUE"
      ],
      "text/plain": [
       "[1] TRUE"
      ]
     },
     "metadata": {},
     "output_type": "display_data"
    }
   ],
   "source": [
    "x <= 10.1"
   ]
  },
  {
   "cell_type": "code",
   "execution_count": null,
   "id": "9c7a0f5a-f7aa-41c4-aa29-529318d826bb",
   "metadata": {},
   "outputs": [],
   "source": [
    "## classes and standard operations (+,-,*,/,^)"
   ]
  },
  {
   "cell_type": "code",
   "execution_count": 261,
   "id": "439cd170-36f2-444e-86c9-ae8a9f1c28d1",
   "metadata": {},
   "outputs": [
    {
     "data": {
      "text/html": [
       "10"
      ],
      "text/latex": [
       "10"
      ],
      "text/markdown": [
       "10"
      ],
      "text/plain": [
       "[1] 10"
      ]
     },
     "metadata": {},
     "output_type": "display_data"
    }
   ],
   "source": [
    "x"
   ]
  },
  {
   "cell_type": "code",
   "execution_count": 262,
   "id": "d6639864-d3f0-4835-9ebe-e89ccdac098f",
   "metadata": {},
   "outputs": [
    {
     "data": {
      "text/html": [
       "'integer'"
      ],
      "text/latex": [
       "'integer'"
      ],
      "text/markdown": [
       "'integer'"
      ],
      "text/plain": [
       "[1] \"integer\""
      ]
     },
     "metadata": {},
     "output_type": "display_data"
    }
   ],
   "source": [
    "class(x)"
   ]
  },
  {
   "cell_type": "code",
   "execution_count": null,
   "id": "1f18fe96-8caf-43c2-93dc-dc40dbc95bac",
   "metadata": {},
   "outputs": [],
   "source": [
    "y"
   ]
  },
  {
   "cell_type": "code",
   "execution_count": 263,
   "id": "204910b9-eb53-4a39-8ea0-b77ec2e2a22d",
   "metadata": {},
   "outputs": [
    {
     "data": {
      "text/html": [
       "'numeric'"
      ],
      "text/latex": [
       "'numeric'"
      ],
      "text/markdown": [
       "'numeric'"
      ],
      "text/plain": [
       "[1] \"numeric\""
      ]
     },
     "metadata": {},
     "output_type": "display_data"
    }
   ],
   "source": [
    "class(y)"
   ]
  },
  {
   "cell_type": "code",
   "execution_count": 264,
   "id": "b98cc0e0-094b-4bb7-83d1-cd79a03da8fb",
   "metadata": {},
   "outputs": [
    {
     "data": {
      "text/html": [
       "'10'"
      ],
      "text/latex": [
       "'10'"
      ],
      "text/markdown": [
       "'10'"
      ],
      "text/plain": [
       "[1] \"10\""
      ]
     },
     "metadata": {},
     "output_type": "display_data"
    }
   ],
   "source": [
    "z"
   ]
  },
  {
   "cell_type": "code",
   "execution_count": 265,
   "id": "48ac8749-39e6-4c24-a890-f0c2260ea778",
   "metadata": {},
   "outputs": [
    {
     "data": {
      "text/html": [
       "'character'"
      ],
      "text/latex": [
       "'character'"
      ],
      "text/markdown": [
       "'character'"
      ],
      "text/plain": [
       "[1] \"character\""
      ]
     },
     "metadata": {},
     "output_type": "display_data"
    }
   ],
   "source": [
    "class(z)"
   ]
  },
  {
   "cell_type": "code",
   "execution_count": 266,
   "id": "78b67567-b7bb-443d-9ee7-28da62c8bdc8",
   "metadata": {},
   "outputs": [
    {
     "data": {
      "text/html": [
       "10\n",
       "<details>\n",
       "\t<summary style=display:list-item;cursor:pointer>\n",
       "\t\t<strong>Levels</strong>:\n",
       "\t</summary>\n",
       "\t'10'\n",
       "</details>"
      ],
      "text/latex": [
       "10\n",
       "\\emph{Levels}: '10'"
      ],
      "text/markdown": [
       "10\n",
       "**Levels**: '10'"
      ],
      "text/plain": [
       "[1] 10\n",
       "Levels: 10"
      ]
     },
     "metadata": {},
     "output_type": "display_data"
    }
   ],
   "source": [
    "t"
   ]
  },
  {
   "cell_type": "code",
   "execution_count": 267,
   "id": "5c5317a6-565a-4c43-8e8f-b4b472aa1345",
   "metadata": {},
   "outputs": [
    {
     "data": {
      "text/html": [
       "'factor'"
      ],
      "text/latex": [
       "'factor'"
      ],
      "text/markdown": [
       "'factor'"
      ],
      "text/plain": [
       "[1] \"factor\""
      ]
     },
     "metadata": {},
     "output_type": "display_data"
    }
   ],
   "source": [
    "class(t)"
   ]
  },
  {
   "cell_type": "code",
   "execution_count": 268,
   "id": "fb6205f6-b3ff-4d6d-b4a4-f08a895f055e",
   "metadata": {},
   "outputs": [
    {
     "data": {
      "text/html": [
       "FALSE"
      ],
      "text/latex": [
       "FALSE"
      ],
      "text/markdown": [
       "FALSE"
      ],
      "text/plain": [
       "[1] FALSE"
      ]
     },
     "metadata": {},
     "output_type": "display_data"
    }
   ],
   "source": [
    "v"
   ]
  },
  {
   "cell_type": "code",
   "execution_count": 269,
   "id": "81c9c177-7380-44c3-8c87-d3aa7579cdd8",
   "metadata": {},
   "outputs": [
    {
     "data": {
      "text/html": [
       "'logical'"
      ],
      "text/latex": [
       "'logical'"
      ],
      "text/markdown": [
       "'logical'"
      ],
      "text/plain": [
       "[1] \"logical\""
      ]
     },
     "metadata": {},
     "output_type": "display_data"
    }
   ],
   "source": [
    "class(v)"
   ]
  },
  {
   "cell_type": "code",
   "execution_count": 270,
   "id": "9aa1876b-34aa-4020-9924-312b9bb88c78",
   "metadata": {},
   "outputs": [
    {
     "data": {
      "text/html": [
       "11"
      ],
      "text/latex": [
       "11"
      ],
      "text/markdown": [
       "11"
      ],
      "text/plain": [
       "[1] 11"
      ]
     },
     "metadata": {},
     "output_type": "display_data"
    }
   ],
   "source": [
    "x + 1"
   ]
  },
  {
   "cell_type": "code",
   "execution_count": 271,
   "id": "9ee578bb-a804-43b9-a763-247f9a2c4725",
   "metadata": {},
   "outputs": [
    {
     "data": {
      "text/html": [
       "11"
      ],
      "text/latex": [
       "11"
      ],
      "text/markdown": [
       "11"
      ],
      "text/plain": [
       "[1] 11"
      ]
     },
     "metadata": {},
     "output_type": "display_data"
    }
   ],
   "source": [
    "y + 1"
   ]
  },
  {
   "cell_type": "code",
   "execution_count": 272,
   "id": "3730cd0c-0607-4328-b9d6-55b40c0faced",
   "metadata": {},
   "outputs": [
    {
     "ename": "ERROR",
     "evalue": "Error in z + 1: non-numeric argument to binary operator\n",
     "output_type": "error",
     "traceback": [
      "Error in z + 1: non-numeric argument to binary operator\nTraceback:\n"
     ]
    }
   ],
   "source": [
    "z + 1"
   ]
  },
  {
   "cell_type": "code",
   "execution_count": 273,
   "id": "a32f05a2-6953-4217-9cda-614d0efa0c34",
   "metadata": {},
   "outputs": [
    {
     "name": "stderr",
     "output_type": "stream",
     "text": [
      "Warning message in Ops.factor(t, 1):\n",
      "“‘+’ not meaningful for factors”\n"
     ]
    },
    {
     "data": {
      "text/html": [
       "&lt;NA&gt;"
      ],
      "text/latex": [
       "<NA>"
      ],
      "text/markdown": [
       "&lt;NA&gt;"
      ],
      "text/plain": [
       "[1] NA"
      ]
     },
     "metadata": {},
     "output_type": "display_data"
    }
   ],
   "source": [
    "t + 1"
   ]
  },
  {
   "cell_type": "code",
   "execution_count": null,
   "id": "539dfa2f-b5f9-434e-8fe0-2f857165696c",
   "metadata": {},
   "outputs": [],
   "source": [
    "#### as.dot function to convert data types"
   ]
  },
  {
   "cell_type": "code",
   "execution_count": 274,
   "id": "ecb29209-a60f-431d-9c55-5d2735e8f0bd",
   "metadata": {},
   "outputs": [
    {
     "data": {
      "text/html": [
       "'10'"
      ],
      "text/latex": [
       "'10'"
      ],
      "text/markdown": [
       "'10'"
      ],
      "text/plain": [
       "[1] \"10\""
      ]
     },
     "metadata": {},
     "output_type": "display_data"
    }
   ],
   "source": [
    "z"
   ]
  },
  {
   "cell_type": "code",
   "execution_count": 275,
   "id": "b4b3fc24-05f7-4306-9eaa-a22cd8047f0a",
   "metadata": {},
   "outputs": [
    {
     "data": {
      "text/html": [
       "10"
      ],
      "text/latex": [
       "10"
      ],
      "text/markdown": [
       "10"
      ],
      "text/plain": [
       "[1] 10"
      ]
     },
     "metadata": {},
     "output_type": "display_data"
    }
   ],
   "source": [
    "as.numeric(z)"
   ]
  },
  {
   "cell_type": "code",
   "execution_count": 276,
   "id": "4facbdec-fc98-4512-b5e2-b060e3033344",
   "metadata": {},
   "outputs": [
    {
     "data": {
      "text/html": [
       "'numeric'"
      ],
      "text/latex": [
       "'numeric'"
      ],
      "text/markdown": [
       "'numeric'"
      ],
      "text/plain": [
       "[1] \"numeric\""
      ]
     },
     "metadata": {},
     "output_type": "display_data"
    }
   ],
   "source": [
    "class(as.numeric(z))"
   ]
  },
  {
   "cell_type": "code",
   "execution_count": 277,
   "id": "d97f2eda-56f9-43bf-86b7-1b4f46e09de3",
   "metadata": {},
   "outputs": [
    {
     "data": {
      "text/html": [
       "11"
      ],
      "text/latex": [
       "11"
      ],
      "text/markdown": [
       "11"
      ],
      "text/plain": [
       "[1] 11"
      ]
     },
     "metadata": {},
     "output_type": "display_data"
    }
   ],
   "source": [
    "as.numeric(z) + 1"
   ]
  },
  {
   "cell_type": "code",
   "execution_count": null,
   "id": "15587633-bd3b-470a-a1e3-edcd70c99cee",
   "metadata": {},
   "outputs": [],
   "source": [
    "#### as.numeric for factor class - be careful!"
   ]
  },
  {
   "cell_type": "code",
   "execution_count": 278,
   "id": "9eb5b779-e116-48ff-8172-246bf7d6dc02",
   "metadata": {},
   "outputs": [
    {
     "data": {
      "text/html": [
       "10\n",
       "<details>\n",
       "\t<summary style=display:list-item;cursor:pointer>\n",
       "\t\t<strong>Levels</strong>:\n",
       "\t</summary>\n",
       "\t'10'\n",
       "</details>"
      ],
      "text/latex": [
       "10\n",
       "\\emph{Levels}: '10'"
      ],
      "text/markdown": [
       "10\n",
       "**Levels**: '10'"
      ],
      "text/plain": [
       "[1] 10\n",
       "Levels: 10"
      ]
     },
     "metadata": {},
     "output_type": "display_data"
    }
   ],
   "source": [
    "t"
   ]
  },
  {
   "cell_type": "code",
   "execution_count": 279,
   "id": "39f0d30e-e669-4d84-9135-4ef2864a04b0",
   "metadata": {},
   "outputs": [
    {
     "data": {
      "text/html": [
       "1"
      ],
      "text/latex": [
       "1"
      ],
      "text/markdown": [
       "1"
      ],
      "text/plain": [
       "[1] 1"
      ]
     },
     "metadata": {},
     "output_type": "display_data"
    }
   ],
   "source": [
    "as.numeric(t)"
   ]
  },
  {
   "cell_type": "code",
   "execution_count": 280,
   "id": "ec7d3158-53fc-44a7-bee0-2c74f6c57e68",
   "metadata": {},
   "outputs": [
    {
     "data": {
      "text/html": [
       "10"
      ],
      "text/latex": [
       "10"
      ],
      "text/markdown": [
       "10"
      ],
      "text/plain": [
       "[1] 10"
      ]
     },
     "metadata": {},
     "output_type": "display_data"
    }
   ],
   "source": [
    "as.numeric(as.character(t))"
   ]
  },
  {
   "cell_type": "code",
   "execution_count": 281,
   "id": "de9b7c42-398e-4b8c-858a-0640cabc2336",
   "metadata": {},
   "outputs": [
    {
     "data": {
      "text/html": [
       "2"
      ],
      "text/latex": [
       "2"
      ],
      "text/markdown": [
       "2"
      ],
      "text/plain": [
       "[1] 2"
      ]
     },
     "metadata": {},
     "output_type": "display_data"
    }
   ],
   "source": [
    "as.numeric(t) + 1"
   ]
  },
  {
   "cell_type": "code",
   "execution_count": 282,
   "id": "e38c38ea-b9a0-4e56-8571-4b51dcc001cd",
   "metadata": {},
   "outputs": [
    {
     "data": {
      "text/html": [
       "11"
      ],
      "text/latex": [
       "11"
      ],
      "text/markdown": [
       "11"
      ],
      "text/plain": [
       "[1] 11"
      ]
     },
     "metadata": {},
     "output_type": "display_data"
    }
   ],
   "source": [
    "as.numeric(as.character(t)) + 1"
   ]
  },
  {
   "cell_type": "code",
   "execution_count": null,
   "id": "404c4db1-c0a8-434d-ae1d-e466a4c6116e",
   "metadata": {},
   "outputs": [],
   "source": [
    "#### lost information when convert to integer"
   ]
  },
  {
   "cell_type": "code",
   "execution_count": 283,
   "id": "ef4328c1-2139-4a9e-9718-9d6362ff168c",
   "metadata": {},
   "outputs": [
    {
     "data": {
      "text/html": [
       "10"
      ],
      "text/latex": [
       "10"
      ],
      "text/markdown": [
       "10"
      ],
      "text/plain": [
       "[1] 10"
      ]
     },
     "metadata": {},
     "output_type": "display_data"
    }
   ],
   "source": [
    "as.integer(10.1)"
   ]
  },
  {
   "cell_type": "code",
   "execution_count": 284,
   "id": "94c8a995-4356-498f-937d-c83592e3faac",
   "metadata": {},
   "outputs": [
    {
     "data": {
      "text/html": [
       "10"
      ],
      "text/latex": [
       "10"
      ],
      "text/markdown": [
       "10"
      ],
      "text/plain": [
       "[1] 10"
      ]
     },
     "metadata": {},
     "output_type": "display_data"
    }
   ],
   "source": [
    "as.integer(10.9)"
   ]
  },
  {
   "cell_type": "code",
   "execution_count": 285,
   "id": "29573925-4309-44ca-869b-1f76c176e871",
   "metadata": {},
   "outputs": [
    {
     "data": {
      "text/html": [
       "12.4"
      ],
      "text/latex": [
       "12.4"
      ],
      "text/markdown": [
       "12.4"
      ],
      "text/plain": [
       "[1] 12.4"
      ]
     },
     "metadata": {},
     "output_type": "display_data"
    }
   ],
   "source": [
    "as.numeric(\"12.4\")"
   ]
  },
  {
   "cell_type": "code",
   "execution_count": 286,
   "id": "eecb0b73-c623-4500-840b-c8b87b2485ac",
   "metadata": {},
   "outputs": [
    {
     "data": {
      "text/html": [
       "12"
      ],
      "text/latex": [
       "12"
      ],
      "text/markdown": [
       "12"
      ],
      "text/plain": [
       "[1] 12"
      ]
     },
     "metadata": {},
     "output_type": "display_data"
    }
   ],
   "source": [
    "as.integer(\"12.4\")"
   ]
  },
  {
   "cell_type": "code",
   "execution_count": null,
   "id": "549c76b9-8a26-4ac0-9543-00d371bc22d1",
   "metadata": {},
   "outputs": [],
   "source": [
    "####################################################################"
   ]
  },
  {
   "cell_type": "code",
   "execution_count": null,
   "id": "2d13a129-47d9-45e9-a5f8-1c3bf9cc3b16",
   "metadata": {},
   "outputs": [],
   "source": []
  },
  {
   "cell_type": "markdown",
   "id": "bc951aa1-1517-4bb6-82b4-b5ec1b6beacb",
   "metadata": {},
   "source": [
    "# Remarks\n",
    "- Fastest way for variable assignment: \"=\"\n",
    "- 5 data types in R\n",
    "- Check data type with class() function\n",
    "- We can convert data types with as.[class] function\n",
    "- Double checks with class coversion as they are special and many unexpected results may arised\n"
   ]
  },
  {
   "cell_type": "code",
   "execution_count": null,
   "id": "deca8a72-bd13-454d-9c49-e1cc0029567d",
   "metadata": {},
   "outputs": [],
   "source": []
  }
 ],
 "metadata": {
  "kernelspec": {
   "display_name": "R",
   "language": "R",
   "name": "ir"
  },
  "language_info": {
   "codemirror_mode": "r",
   "file_extension": ".r",
   "mimetype": "text/x-r-source",
   "name": "R",
   "pygments_lexer": "r",
   "version": "4.2.1"
  }
 },
 "nbformat": 4,
 "nbformat_minor": 5
}
