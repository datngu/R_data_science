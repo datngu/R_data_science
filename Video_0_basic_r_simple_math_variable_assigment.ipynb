{
 "cells": [
  {
   "cell_type": "markdown",
   "id": "43264f6d-1a67-4467-a9bc-67bcdf586e8d",
   "metadata": {},
   "source": [
    "# Video 1: Introduction to R - Simple math, variable assignment"
   ]
  },
  {
   "cell_type": "markdown",
   "id": "39727920-4831-4d47-a4b4-5a6eda6019b6",
   "metadata": {},
   "source": [
    "## Learning objectives\n",
    "### 1. Variable assigment\n",
    "- \"<-\"\n",
    "- \"=\"\n",
    "### 2. Doing basic math\n",
    "- +,-,*,/,^\n",
    "- logical comparison: ==, <=, >=, <, >, !=\n",
    "### 3. Some math functions\n",
    "- log(): logarithms\n",
    "- exp(): exponential\n",
    "- sqrt(): square root- log(): logarithms\n",
    "- exp(): exponential\n",
    "- sqrt(): square root\n",
    "- sum() : sum\n",
    "- prod() : product## Learning objectives\n",
    "### 1. Variable assigment\n",
    "- \"<-\"\n",
    "- \"=\"\n",
    "### 2. Doing basic math\n",
    "- +,-,*,/,^\n",
    "- logical comparison: ==, <=, >=, <, >, !=\n",
    "### 3. Some math functions\n",
    "- log(): logarithms\n",
    "- exp(): exponential\n",
    "- sqrt(): square root- log(): logarithms\n",
    "- exp(): exponential\n",
    "- sqrt(): square root\n",
    "- sum() : sum\n",
    "- prod() : product"
   ]
  },
  {
   "cell_type": "code",
   "execution_count": 285,
   "id": "8c15b281-032c-4784-9327-dfc62abbabb7",
   "metadata": {},
   "outputs": [],
   "source": [
    "#################################################################"
   ]
  },
  {
   "cell_type": "markdown",
   "id": "f81fc1ab-01ff-4e0c-ba07-2ee8469d7d47",
   "metadata": {},
   "source": [
    "### 1. Assigning objects (gán biến)"
   ]
  },
  {
   "cell_type": "code",
   "execution_count": 286,
   "id": "c40f6010-85af-4a85-9693-6389f7ddd5e9",
   "metadata": {},
   "outputs": [],
   "source": [
    "a = 1"
   ]
  },
  {
   "cell_type": "code",
   "execution_count": 287,
   "id": "f2879a6a-aac2-43fa-b760-aa8eb39b018f",
   "metadata": {},
   "outputs": [
    {
     "name": "stdout",
     "output_type": "stream",
     "text": [
      "[1] 1\n"
     ]
    }
   ],
   "source": [
    "print(a)"
   ]
  },
  {
   "cell_type": "code",
   "execution_count": 288,
   "id": "e254c16f-35fb-4b1a-900b-4e0679e020fa",
   "metadata": {},
   "outputs": [],
   "source": [
    "b = 1.2"
   ]
  },
  {
   "cell_type": "code",
   "execution_count": 289,
   "id": "39d0d615-8e77-423f-b529-051bd46b58af",
   "metadata": {},
   "outputs": [
    {
     "name": "stdout",
     "output_type": "stream",
     "text": [
      "[1] 1.2\n"
     ]
    }
   ],
   "source": [
    "print(b)"
   ]
  },
  {
   "cell_type": "code",
   "execution_count": 290,
   "id": "915e92f7-e5e2-4b7e-9b19-bd90c1545881",
   "metadata": {},
   "outputs": [],
   "source": [
    "c = \"Hello, chao mung cac ban den voi ngon ngu R\""
   ]
  },
  {
   "cell_type": "code",
   "execution_count": 291,
   "id": "c5ae2652-c128-401f-93ee-3ead4974b484",
   "metadata": {},
   "outputs": [
    {
     "name": "stdout",
     "output_type": "stream",
     "text": [
      "[1] \"Hello, chao mung cac ban den voi ngon ngu R\"\n"
     ]
    }
   ],
   "source": [
    "print(c)"
   ]
  },
  {
   "cell_type": "code",
   "execution_count": 292,
   "id": "654d4296-ee08-47a3-b20a-9b24d782feab",
   "metadata": {},
   "outputs": [
    {
     "data": {
      "text/html": [
       "1"
      ],
      "text/latex": [
       "1"
      ],
      "text/markdown": [
       "1"
      ],
      "text/plain": [
       "[1] 1"
      ]
     },
     "metadata": {},
     "output_type": "display_data"
    }
   ],
   "source": [
    "a"
   ]
  },
  {
   "cell_type": "code",
   "execution_count": 293,
   "id": "f01db84f-2396-4c01-8571-8704ca9ebbc6",
   "metadata": {},
   "outputs": [
    {
     "data": {
      "text/html": [
       "1.2"
      ],
      "text/latex": [
       "1.2"
      ],
      "text/markdown": [
       "1.2"
      ],
      "text/plain": [
       "[1] 1.2"
      ]
     },
     "metadata": {},
     "output_type": "display_data"
    }
   ],
   "source": [
    "b"
   ]
  },
  {
   "cell_type": "code",
   "execution_count": 294,
   "id": "bc213fa8-815c-47c0-86ce-078cb840e870",
   "metadata": {},
   "outputs": [
    {
     "data": {
      "text/html": [
       "'Hello, chao mung cac ban den voi ngon ngu R'"
      ],
      "text/latex": [
       "'Hello, chao mung cac ban den voi ngon ngu R'"
      ],
      "text/markdown": [
       "'Hello, chao mung cac ban den voi ngon ngu R'"
      ],
      "text/plain": [
       "[1] \"Hello, chao mung cac ban den voi ngon ngu R\""
      ]
     },
     "metadata": {},
     "output_type": "display_data"
    }
   ],
   "source": [
    "c"
   ]
  },
  {
   "cell_type": "markdown",
   "id": "402de58b-9150-4645-bda8-c6149760595b",
   "metadata": {},
   "source": [
    "### 2. Doing math"
   ]
  },
  {
   "cell_type": "code",
   "execution_count": 295,
   "id": "04dc337d-9671-4c92-87fc-d131c6f8a214",
   "metadata": {},
   "outputs": [],
   "source": [
    "#### 2.1 Simple math"
   ]
  },
  {
   "cell_type": "code",
   "execution_count": 296,
   "id": "98c4c86b-ec17-46a5-859c-2e1f1dd2c5d7",
   "metadata": {},
   "outputs": [
    {
     "data": {
      "text/html": [
       "5"
      ],
      "text/latex": [
       "5"
      ],
      "text/markdown": [
       "5"
      ],
      "text/plain": [
       "[1] 5"
      ]
     },
     "metadata": {},
     "output_type": "display_data"
    }
   ],
   "source": [
    "2+3"
   ]
  },
  {
   "cell_type": "code",
   "execution_count": 297,
   "id": "247293c2-5fb9-440f-9599-2e5a4cd538a9",
   "metadata": {},
   "outputs": [
    {
     "data": {
      "text/html": [
       "2.33333333333333"
      ],
      "text/latex": [
       "2.33333333333333"
      ],
      "text/markdown": [
       "2.33333333333333"
      ],
      "text/plain": [
       "[1] 2.333333"
      ]
     },
     "metadata": {},
     "output_type": "display_data"
    }
   ],
   "source": [
    "14/6"
   ]
  },
  {
   "cell_type": "code",
   "execution_count": 298,
   "id": "8efd6ba5-0c0d-4fe3-8aab-c67ee48613eb",
   "metadata": {},
   "outputs": [
    {
     "data": {
      "text/html": [
       "7.33333333333333"
      ],
      "text/latex": [
       "7.33333333333333"
      ],
      "text/markdown": [
       "7.33333333333333"
      ],
      "text/plain": [
       "[1] 7.333333"
      ]
     },
     "metadata": {},
     "output_type": "display_data"
    }
   ],
   "source": [
    "14/6+5"
   ]
  },
  {
   "cell_type": "code",
   "execution_count": 299,
   "id": "efd3d837-fbc4-4415-a110-2ddbb26d001c",
   "metadata": {},
   "outputs": [
    {
     "data": {
      "text/html": [
       "1.27272727272727"
      ],
      "text/latex": [
       "1.27272727272727"
      ],
      "text/markdown": [
       "1.27272727272727"
      ],
      "text/plain": [
       "[1] 1.272727"
      ]
     },
     "metadata": {},
     "output_type": "display_data"
    }
   ],
   "source": [
    "14/(6+5)"
   ]
  },
  {
   "cell_type": "code",
   "execution_count": 300,
   "id": "04a9f68d-f96b-4054-9c3c-06c2ca1dfa42",
   "metadata": {},
   "outputs": [
    {
     "data": {
      "text/html": [
       "9"
      ],
      "text/latex": [
       "9"
      ],
      "text/markdown": [
       "9"
      ],
      "text/plain": [
       "[1] 9"
      ]
     },
     "metadata": {},
     "output_type": "display_data"
    }
   ],
   "source": [
    "3^2"
   ]
  },
  {
   "cell_type": "code",
   "execution_count": 301,
   "id": "e935a1be-a286-4bc3-8bb7-4600ab7ea41b",
   "metadata": {},
   "outputs": [],
   "source": [
    "#### 2.2 Logical comparision"
   ]
  },
  {
   "cell_type": "code",
   "execution_count": 302,
   "id": "045234f8-e39c-47c5-acd8-3eacb726744c",
   "metadata": {},
   "outputs": [
    {
     "data": {
      "text/html": [
       "TRUE"
      ],
      "text/latex": [
       "TRUE"
      ],
      "text/markdown": [
       "TRUE"
      ],
      "text/plain": [
       "[1] TRUE"
      ]
     },
     "metadata": {},
     "output_type": "display_data"
    }
   ],
   "source": [
    "3^2 == 9"
   ]
  },
  {
   "cell_type": "code",
   "execution_count": 303,
   "id": "d3613978-a911-4eae-9534-9c322191e47e",
   "metadata": {},
   "outputs": [
    {
     "data": {
      "text/html": [
       "FALSE"
      ],
      "text/latex": [
       "FALSE"
      ],
      "text/markdown": [
       "FALSE"
      ],
      "text/plain": [
       "[1] FALSE"
      ]
     },
     "metadata": {},
     "output_type": "display_data"
    }
   ],
   "source": [
    "3^2 != 9"
   ]
  },
  {
   "cell_type": "code",
   "execution_count": 304,
   "id": "afab63a3-a7f3-4d75-9bfb-49dc93e5feb7",
   "metadata": {},
   "outputs": [
    {
     "data": {
      "text/html": [
       "FALSE"
      ],
      "text/latex": [
       "FALSE"
      ],
      "text/markdown": [
       "FALSE"
      ],
      "text/plain": [
       "[1] FALSE"
      ]
     },
     "metadata": {},
     "output_type": "display_data"
    }
   ],
   "source": [
    "3 < 2"
   ]
  },
  {
   "cell_type": "code",
   "execution_count": 305,
   "id": "d870e70a-6c2d-4ad1-bd4c-8146c160a974",
   "metadata": {},
   "outputs": [
    {
     "data": {
      "text/html": [
       "TRUE"
      ],
      "text/latex": [
       "TRUE"
      ],
      "text/markdown": [
       "TRUE"
      ],
      "text/plain": [
       "[1] TRUE"
      ]
     },
     "metadata": {},
     "output_type": "display_data"
    }
   ],
   "source": [
    "1<=3"
   ]
  },
  {
   "cell_type": "code",
   "execution_count": 306,
   "id": "e4134fe6-c8ef-41b9-91fe-790195e2afda",
   "metadata": {},
   "outputs": [],
   "source": [
    "### Some math functions"
   ]
  },
  {
   "cell_type": "code",
   "execution_count": 307,
   "id": "70349a6f-c9b0-4cad-88f6-412ac369baef",
   "metadata": {},
   "outputs": [],
   "source": [
    "#### Doing logarithms and exponentials"
   ]
  },
  {
   "cell_type": "code",
   "execution_count": 308,
   "id": "8ac8e3bc-17d6-462b-a4d7-bbb30f93a117",
   "metadata": {},
   "outputs": [
    {
     "data": {
      "text/html": [
       "3"
      ],
      "text/latex": [
       "3"
      ],
      "text/markdown": [
       "3"
      ],
      "text/plain": [
       "[1] 3"
      ]
     },
     "metadata": {},
     "output_type": "display_data"
    }
   ],
   "source": [
    "log(x=27,base=3) #log3(9)"
   ]
  },
  {
   "cell_type": "code",
   "execution_count": 309,
   "id": "2b088343-ed4f-4df0-a2d4-bbd77faebdbe",
   "metadata": {},
   "outputs": [
    {
     "data": {
      "text/html": [
       "3"
      ],
      "text/latex": [
       "3"
      ],
      "text/markdown": [
       "3"
      ],
      "text/plain": [
       "[1] 3"
      ]
     },
     "metadata": {},
     "output_type": "display_data"
    }
   ],
   "source": [
    "log(27,3)"
   ]
  },
  {
   "cell_type": "code",
   "execution_count": 310,
   "id": "13b32538-17bd-431a-af2f-3c6f355d623a",
   "metadata": {},
   "outputs": [
    {
     "data": {
      "text/html": [
       "20.0855369231877"
      ],
      "text/latex": [
       "20.0855369231877"
      ],
      "text/markdown": [
       "20.0855369231877"
      ],
      "text/plain": [
       "[1] 20.08554"
      ]
     },
     "metadata": {},
     "output_type": "display_data"
    }
   ],
   "source": [
    "exp(x=3) # e^3"
   ]
  },
  {
   "cell_type": "code",
   "execution_count": 311,
   "id": "4d3abf61-9d6a-4fd9-b0c3-b001f11fb381",
   "metadata": {},
   "outputs": [
    {
     "data": {
      "text/html": [
       "2.71828182845905"
      ],
      "text/latex": [
       "2.71828182845905"
      ],
      "text/markdown": [
       "2.71828182845905"
      ],
      "text/plain": [
       "[1] 2.718282"
      ]
     },
     "metadata": {},
     "output_type": "display_data"
    }
   ],
   "source": [
    "exp(1)"
   ]
  },
  {
   "cell_type": "code",
   "execution_count": 312,
   "id": "c50a5b18-f0be-4fef-b480-e9807e037237",
   "metadata": {},
   "outputs": [],
   "source": [
    "#### Very large and very small number - the \"e\" notation"
   ]
  },
  {
   "cell_type": "code",
   "execution_count": 313,
   "id": "18f31249-01f9-4959-8a03-9bf451e398e8",
   "metadata": {},
   "outputs": [
    {
     "data": {
      "text/html": [
       "1e+06"
      ],
      "text/latex": [
       "1e+06"
      ],
      "text/markdown": [
       "1e+06"
      ],
      "text/plain": [
       "[1] 1e+06"
      ]
     },
     "metadata": {},
     "output_type": "display_data"
    }
   ],
   "source": [
    "1e6"
   ]
  },
  {
   "cell_type": "code",
   "execution_count": 314,
   "id": "18fee79c-68f0-4d06-9689-ca5153fd8a46",
   "metadata": {},
   "outputs": [
    {
     "data": {
      "text/html": [
       "1e+06"
      ],
      "text/latex": [
       "1e+06"
      ],
      "text/markdown": [
       "1e+06"
      ],
      "text/plain": [
       "[1] 1e+06"
      ]
     },
     "metadata": {},
     "output_type": "display_data"
    }
   ],
   "source": [
    "1*10^6"
   ]
  },
  {
   "cell_type": "code",
   "execution_count": 315,
   "id": "42879550-8cd3-4e88-86ea-e21254759865",
   "metadata": {},
   "outputs": [],
   "source": [
    "#### Some other functions"
   ]
  },
  {
   "cell_type": "code",
   "execution_count": 316,
   "id": "422f5eee-cd42-4c24-825d-26f0017fbb27",
   "metadata": {},
   "outputs": [
    {
     "data": {
      "text/html": [
       "3"
      ],
      "text/latex": [
       "3"
      ],
      "text/markdown": [
       "3"
      ],
      "text/plain": [
       "[1] 3"
      ]
     },
     "metadata": {},
     "output_type": "display_data"
    }
   ],
   "source": [
    "sqrt(9)"
   ]
  },
  {
   "cell_type": "code",
   "execution_count": 317,
   "id": "2301a84f-bcbd-423e-b210-fc1b5e33379c",
   "metadata": {},
   "outputs": [
    {
     "data": {
      "text/html": [
       "10"
      ],
      "text/latex": [
       "10"
      ],
      "text/markdown": [
       "10"
      ],
      "text/plain": [
       "[1] 10"
      ]
     },
     "metadata": {},
     "output_type": "display_data"
    }
   ],
   "source": [
    "sum(1,2,3,4)"
   ]
  },
  {
   "cell_type": "code",
   "execution_count": 318,
   "id": "86c1ecc2-7d60-49a3-a7ec-11b96ddd01eb",
   "metadata": {},
   "outputs": [
    {
     "data": {
      "text/html": [
       "24"
      ],
      "text/latex": [
       "24"
      ],
      "text/markdown": [
       "24"
      ],
      "text/plain": [
       "[1] 24"
      ]
     },
     "metadata": {},
     "output_type": "display_data"
    }
   ],
   "source": [
    "prod(1,2,3,4)"
   ]
  },
  {
   "cell_type": "code",
   "execution_count": 319,
   "id": "afddf613-ef89-4c05-906e-49c2d52b70e4",
   "metadata": {},
   "outputs": [],
   "source": [
    "#################################################################"
   ]
  },
  {
   "cell_type": "markdown",
   "id": "eea12eb9-9ef0-4a68-aa8f-085c7052a478",
   "metadata": {},
   "source": [
    "## Learning objectives\n",
    "### 1. Variable assigment\n",
    "- \"<-\"\n",
    "- \"=\"\n",
    "### 2. Doing basic math\n",
    "- +,-,*,/,^\n",
    "- logical comparison: ==, <=, >=, <, >, !=\n",
    "### 3. Some math functions\n",
    "- log(): logarithms\n",
    "- exp(): exponential\n",
    "- sqrt(): square root- log(): logarithms\n",
    "- exp(): exponential\n",
    "- sqrt(): square root\n",
    "- sum() : sum\n",
    "- prod() : product"
   ]
  }
 ],
 "metadata": {
  "kernelspec": {
   "display_name": "R",
   "language": "R",
   "name": "ir"
  },
  "language_info": {
   "codemirror_mode": "r",
   "file_extension": ".r",
   "mimetype": "text/x-r-source",
   "name": "R",
   "pygments_lexer": "r",
   "version": "4.2.1"
  }
 },
 "nbformat": 4,
 "nbformat_minor": 5
}
