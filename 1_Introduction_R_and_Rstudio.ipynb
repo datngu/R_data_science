{
 "cells": [
  {
   "cell_type": "markdown",
   "id": "926caf6f",
   "metadata": {},
   "source": [
    "# 1. Introduction"
   ]
  },
  {
   "cell_type": "code",
   "execution_count": 1,
   "id": "3d1cc66a",
   "metadata": {},
   "outputs": [
    {
     "name": "stdout",
     "output_type": "stream",
     "text": [
      "[1] \"Xin chao cac ban\"\n"
     ]
    }
   ],
   "source": [
    "print(\"Xin chao cac ban\")"
   ]
  },
  {
   "cell_type": "code",
   "execution_count": 1,
   "id": "fce31dc1",
   "metadata": {},
   "outputs": [],
   "source": [
    "x = \"Xin chao cac ban\""
   ]
  },
  {
   "cell_type": "code",
   "execution_count": 5,
   "id": "b730b145",
   "metadata": {},
   "outputs": [
    {
     "data": {
      "text/html": [
       "'Xin chao cac ban'"
      ],
      "text/latex": [
       "'Xin chao cac ban'"
      ],
      "text/markdown": [
       "'Xin chao cac ban'"
      ],
      "text/plain": [
       "[1] \"Xin chao cac ban\""
      ]
     },
     "metadata": {},
     "output_type": "display_data"
    }
   ],
   "source": [
    "x"
   ]
  },
  {
   "cell_type": "code",
   "execution_count": 13,
   "id": "dc48876c",
   "metadata": {},
   "outputs": [],
   "source": [
    "y = 1L\n",
    "y1 = 1\n",
    "y2 = \"1\""
   ]
  },
  {
   "cell_type": "code",
   "execution_count": 7,
   "id": "74909b01",
   "metadata": {},
   "outputs": [
    {
     "data": {
      "text/html": [
       "'integer'"
      ],
      "text/latex": [
       "'integer'"
      ],
      "text/markdown": [
       "'integer'"
      ],
      "text/plain": [
       "[1] \"integer\""
      ]
     },
     "metadata": {},
     "output_type": "display_data"
    },
    {
     "data": {
      "text/html": [
       "'numeric'"
      ],
      "text/latex": [
       "'numeric'"
      ],
      "text/markdown": [
       "'numeric'"
      ],
      "text/plain": [
       "[1] \"numeric\""
      ]
     },
     "metadata": {},
     "output_type": "display_data"
    },
    {
     "data": {
      "text/html": [
       "'character'"
      ],
      "text/latex": [
       "'character'"
      ],
      "text/markdown": [
       "'character'"
      ],
      "text/plain": [
       "[1] \"character\""
      ]
     },
     "metadata": {},
     "output_type": "display_data"
    }
   ],
   "source": [
    "class(y)\n",
    "class(y1)\n",
    "class(y2)"
   ]
  },
  {
   "cell_type": "code",
   "execution_count": 8,
   "id": "54a2d6e5",
   "metadata": {},
   "outputs": [],
   "source": [
    "z = c(10L, 20L, 30L, 40L)\n",
    "z1 = c(10L, 20L, 30L, 40)\n",
    "z2 = c(\"10\", 20, 30, 40)"
   ]
  },
  {
   "cell_type": "code",
   "execution_count": 12,
   "id": "ed07e40d",
   "metadata": {},
   "outputs": [
    {
     "data": {
      "text/html": [
       "'integer'"
      ],
      "text/latex": [
       "'integer'"
      ],
      "text/markdown": [
       "'integer'"
      ],
      "text/plain": [
       "[1] \"integer\""
      ]
     },
     "metadata": {},
     "output_type": "display_data"
    },
    {
     "data": {
      "text/html": [
       "'numeric'"
      ],
      "text/latex": [
       "'numeric'"
      ],
      "text/markdown": [
       "'numeric'"
      ],
      "text/plain": [
       "[1] \"numeric\""
      ]
     },
     "metadata": {},
     "output_type": "display_data"
    },
    {
     "data": {
      "text/html": [
       "'character'"
      ],
      "text/latex": [
       "'character'"
      ],
      "text/markdown": [
       "'character'"
      ],
      "text/plain": [
       "[1] \"character\""
      ]
     },
     "metadata": {},
     "output_type": "display_data"
    }
   ],
   "source": [
    "class(z)\n",
    "class(z1)\n",
    "class(z2)"
   ]
  },
  {
   "cell_type": "code",
   "execution_count": 17,
   "id": "dca0e3a4",
   "metadata": {},
   "outputs": [
    {
     "data": {
      "text/html": [
       "<style>\n",
       ".list-inline {list-style: none; margin:0; padding: 0}\n",
       ".list-inline>li {display: inline-block}\n",
       ".list-inline>li:not(:last-child)::after {content: \"\\00b7\"; padding: 0 .5ex}\n",
       "</style>\n",
       "<ol class=list-inline><li>11</li><li>21</li><li>31</li><li>41</li></ol>\n"
      ],
      "text/latex": [
       "\\begin{enumerate*}\n",
       "\\item 11\n",
       "\\item 21\n",
       "\\item 31\n",
       "\\item 41\n",
       "\\end{enumerate*}\n"
      ],
      "text/markdown": [
       "1. 11\n",
       "2. 21\n",
       "3. 31\n",
       "4. 41\n",
       "\n",
       "\n"
      ],
      "text/plain": [
       "[1] 11 21 31 41"
      ]
     },
     "metadata": {},
     "output_type": "display_data"
    },
    {
     "data": {
      "text/html": [
       "<style>\n",
       ".list-inline {list-style: none; margin:0; padding: 0}\n",
       ".list-inline>li {display: inline-block}\n",
       ".list-inline>li:not(:last-child)::after {content: \"\\00b7\"; padding: 0 .5ex}\n",
       "</style>\n",
       "<ol class=list-inline><li>11</li><li>21</li><li>31</li><li>41</li></ol>\n"
      ],
      "text/latex": [
       "\\begin{enumerate*}\n",
       "\\item 11\n",
       "\\item 21\n",
       "\\item 31\n",
       "\\item 41\n",
       "\\end{enumerate*}\n"
      ],
      "text/markdown": [
       "1. 11\n",
       "2. 21\n",
       "3. 31\n",
       "4. 41\n",
       "\n",
       "\n"
      ],
      "text/plain": [
       "[1] 11 21 31 41"
      ]
     },
     "metadata": {},
     "output_type": "display_data"
    }
   ],
   "source": [
    "y + z\n",
    "y + z1"
   ]
  },
  {
   "cell_type": "code",
   "execution_count": 16,
   "id": "4652e951",
   "metadata": {},
   "outputs": [
    {
     "ename": "ERROR",
     "evalue": "Error in y + z2: non-numeric argument to binary operator\n",
     "output_type": "error",
     "traceback": [
      "Error in y + z2: non-numeric argument to binary operator\nTraceback:\n"
     ]
    }
   ],
   "source": [
    "y + z2"
   ]
  },
  {
   "cell_type": "code",
   "execution_count": 15,
   "id": "aeb5c68c",
   "metadata": {},
   "outputs": [
    {
     "data": {
      "text/html": [
       "<style>\n",
       ".list-inline {list-style: none; margin:0; padding: 0}\n",
       ".list-inline>li {display: inline-block}\n",
       ".list-inline>li:not(:last-child)::after {content: \"\\00b7\"; padding: 0 .5ex}\n",
       "</style>\n",
       "<ol class=list-inline><li>11</li><li>21</li><li>31</li><li>41</li></ol>\n"
      ],
      "text/latex": [
       "\\begin{enumerate*}\n",
       "\\item 11\n",
       "\\item 21\n",
       "\\item 31\n",
       "\\item 41\n",
       "\\end{enumerate*}\n"
      ],
      "text/markdown": [
       "1. 11\n",
       "2. 21\n",
       "3. 31\n",
       "4. 41\n",
       "\n",
       "\n"
      ],
      "text/plain": [
       "[1] 11 21 31 41"
      ]
     },
     "metadata": {},
     "output_type": "display_data"
    }
   ],
   "source": [
    "y + as.integer(z2)"
   ]
  },
  {
   "cell_type": "markdown",
   "id": "097e05b6",
   "metadata": {},
   "source": [
    "# 2. Getting help in R"
   ]
  },
  {
   "cell_type": "code",
   "execution_count": 21,
   "id": "04ed218f",
   "metadata": {},
   "outputs": [],
   "source": [
    "??getwd"
   ]
  },
  {
   "cell_type": "code",
   "execution_count": 22,
   "id": "4120c377",
   "metadata": {},
   "outputs": [],
   "source": [
    "??read.table"
   ]
  }
 ],
 "metadata": {
  "kernelspec": {
   "display_name": "R",
   "language": "R",
   "name": "ir"
  },
  "language_info": {
   "codemirror_mode": "r",
   "file_extension": ".r",
   "mimetype": "text/x-r-source",
   "name": "R",
   "pygments_lexer": "r",
   "version": "4.2.1"
  }
 },
 "nbformat": 4,
 "nbformat_minor": 5
}
